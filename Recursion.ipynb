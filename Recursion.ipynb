{
 "cells": [
  {
   "cell_type": "markdown",
   "id": "72536acf",
   "metadata": {},
   "source": [
    "### Code for Linear Search"
   ]
  },
  {
   "cell_type": "code",
   "execution_count": 3,
   "id": "e4439099",
   "metadata": {},
   "outputs": [
    {
     "name": "stdout",
     "output_type": "stream",
     "text": [
      "5 is present at index 0 in the entered array.\n"
     ]
    }
   ],
   "source": [
    "def linearSearch(arr,x):\n",
    "    for i in range(len(arr)):\n",
    "        if(arr[i]==x):\n",
    "            return i\n",
    "    return -1\n",
    "arr = [int(s) for s in input().split()]\n",
    "x = int(input(\"Enter the element you want to search in the entered array:\"))\n",
    "ans = linearSearch(arr,x)\n",
    "if (ans==-1):\n",
    "    print(x,\"is not present in the entered array.\")\n",
    "else:\n",
    "    print(x,\"is present at index\",ans,\"in the entered array.\")"
   ]
  },
  {
   "cell_type": "markdown",
   "id": "61dc7ee7",
   "metadata": {},
   "source": [
    "### Code for Binary Search"
   ]
  },
  {
   "cell_type": "code",
   "execution_count": 4,
   "id": "380bffdd",
   "metadata": {},
   "outputs": [
    {
     "name": "stdout",
     "output_type": "stream",
     "text": [
      "5 is present at index 4 in the entered array.\n"
     ]
    }
   ],
   "source": [
    "def binarySearch(arr,x):\n",
    "    start = 0\n",
    "    end = len(arr)-1\n",
    "    while(start<=end):\n",
    "        mid = (start+end)//2\n",
    "        if(arr[mid]==x):\n",
    "            return mid\n",
    "        elif(x>arr[mid]):\n",
    "            start = mid + 1\n",
    "        else:\n",
    "            end = mid - 1\n",
    "    return -1\n",
    "arr = [int(s) for s in input(\"Enter space separated elements of array in ascending order: \").split()]\n",
    "x = int(input(\"Enter the element you want to search in the entered array:\"))\n",
    "ans = binarySearch(arr,x)\n",
    "if(ans==-1):\n",
    "    print(x,\"is not present in the entered array.\")\n",
    "else:\n",
    "    print(x,\"is present at index\",ans,\"in the entered array.\")"
   ]
  },
  {
   "cell_type": "markdown",
   "id": "de172e45",
   "metadata": {},
   "source": [
    "### Code for Selection Sort"
   ]
  },
  {
   "cell_type": "code",
   "execution_count": 5,
   "id": "6667af19",
   "metadata": {},
   "outputs": [
    {
     "name": "stdout",
     "output_type": "stream",
     "text": [
      "Entered array in ascending order is: \n",
      "[1, 2, 3, 4, 5]\n"
     ]
    }
   ],
   "source": [
    "def selectionSort(arr):\n",
    "    for i in range(len(arr)):\n",
    "        min_index = i\n",
    "        for j in range(i+1,len(arr)):\n",
    "            if(arr[j]<arr[min_index]):\n",
    "                min_index = j\n",
    "        arr[i],arr[min_index] = arr[min_index],arr[i]\n",
    "        \n",
    "arr = [int(s) for s in input(\"Enter space separated elements of the array in a single line.\").split()]\n",
    "selectionSort(arr)\n",
    "print(\"Entered array in ascending order is: \")\n",
    "print(arr)"
   ]
  }
 ],
 "metadata": {
  "kernelspec": {
   "display_name": "Python 3 (ipykernel)",
   "language": "python",
   "name": "python3"
  },
  "language_info": {
   "codemirror_mode": {
    "name": "ipython",
    "version": 3
   },
   "file_extension": ".py",
   "mimetype": "text/x-python",
   "name": "python",
   "nbconvert_exporter": "python",
   "pygments_lexer": "ipython3",
   "version": "3.12.2"
  }
 },
 "nbformat": 4,
 "nbformat_minor": 5
}
